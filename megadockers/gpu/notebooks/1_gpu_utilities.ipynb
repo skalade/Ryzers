{
 "cells": [
  {
   "cell_type": "markdown",
   "id": "ac2313db-cc41-4589-b2d9-4974abe55ca7",
   "metadata": {},
   "source": [
    "# Working with the AMD GPU tools\n",
    "\n",
    "The NPU is another accelerator with its own set of tools and utilities to interact with. In this notebook we'll walk through how to use the utilities that get shipped with the XDNA driver to inspect our NPU status.\n",
    "\n",
    "## Goals\n",
    "\n",
    "* Get to know the ROCm stack drivers\n",
    "* Learn to use `rocm-smi` and `amdgpu_top`\n",
    "\n",
    "## References\n",
    "\n",
    "* [amdgpu_top](https://github.com/Umio-Yasuno/amdgpu_top)\n"
   ]
  },
  {
   "cell_type": "markdown",
   "id": "b285bb33-051c-4edb-bb43-14e4efa00fde",
   "metadata": {},
   "source": [
    "\n",
    "\n",
    "\n",
    "---\n",
    "Copyright© 2025 AMD, Inc SPDX-License-Identifier: MIT"
   ]
  }
 ],
 "metadata": {
  "kernelspec": {
   "display_name": "Python 3 (ipykernel)",
   "language": "python",
   "name": "python3"
  },
  "language_info": {
   "codemirror_mode": {
    "name": "ipython",
    "version": 3
   },
   "file_extension": ".py",
   "mimetype": "text/x-python",
   "name": "python",
   "nbconvert_exporter": "python",
   "pygments_lexer": "ipython3",
   "version": "3.12.3"
  }
 },
 "nbformat": 4,
 "nbformat_minor": 5
}
