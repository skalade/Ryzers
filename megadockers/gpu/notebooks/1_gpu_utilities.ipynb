{
 "cells": [
  {
   "cell_type": "markdown",
   "id": "d3562524-4a4c-4103-a8a6-ee68a6cc417f",
   "metadata": {},
   "source": [
    "# Working with the AMD GPU tools\n",
    "\n",
    "The GPU is another accelerator with its own set of tools and utilities to interact with. In this notebook we'll walk through how to use the utilities that get shipped with the ROCm runtime to inspect our GPU status and utilization.\n",
    "\n",
    "## Goals\n",
    "\n",
    "* Get to know the ROCm stack drivers\n",
    "* Learn to use `rocm-smi` and `amdgpu_top`\n",
    "\n",
    "## GPU Stack\n",
    "\n",
    "There are 3 main entrypoints to interacting with AMD GPUs on the Ryzen AI platform. There is the ROCm runtime, the HIP SDK and the Vulkan API. Each of these has its own benefits. In this section we will explore each of them.\n",
    "\n",
    "ROCm is a stack of software including the GPU driver, runtime, utilities and optimized libraries for AMD GPUs. \n",
    "\n",
    "The HIP SDK can be considered a lower level component of ROCm and consists of a compiler toolchain for code running on the GPU written in the HIP kernel language.\n",
    "\n",
    "Vulkan is an open standard for high performance graphics designed for modern multicore CPU systems and GPUs. Vulkan enables very low level access to GPU hardware. Although built as a graphics API, Vulkan offers general purpose computation through \"compute shaders\". Shaders are small programs written in a domain specific languages like glsl that run on GPU compute units.\n",
    "\n",
    "## Utilities\n",
    "\n",
    "### ROCm SMI\n",
    "\n",
    "To interact with an AMD GPU we may use a variety of utilities. We will start with the `rocm-smi` (ROCm system management interface) tool. This tool is useful for:\n",
    "\n",
    "* Confirming the GPU driver is loaded correctly\n",
    "* Enumerating GPUs\n",
    "* Examining and configuring GPUs\n",
    "\n",
    "Let's explore the use of `rocm-smi`. First, execute `rocm-smi` without any parameters:"
   ]
  },
  {
   "cell_type": "code",
   "execution_count": 1,
   "id": "ed4591e6-57f5-4462-a37b-f9621d8645d2",
   "metadata": {},
   "outputs": [
    {
     "name": "stdout",
     "output_type": "stream",
     "text": [
      "\n",
      "\n",
      "======================================== ROCm System Management Interface ========================================\n",
      "================================================== Concise Info ==================================================\n",
      "Device  Node  IDs              Temp    Power     Partitions          SCLK  MCLK  Fan  Perf  PwrCap  VRAM%  GPU%  \n",
      "\u001b[3m              (DID,     GUID)  (Edge)  (Socket)  (Mem, Compute, ID)                                              \u001b[0m\n",
      "==================================================================================================================\n",
      "0       1     0x1586,   15162  29.0°C  7.098W    N/A, N/A, 0         N/A   N/A   0%   auto  N/A     0%     0%    \n",
      "==================================================================================================================\n",
      "============================================== End of ROCm SMI Log ===============================================\n"
     ]
    }
   ],
   "source": [
    "! rocm-smi"
   ]
  },
  {
   "cell_type": "markdown",
   "id": "ab79d560-8041-4f82-bed6-850004dc83dc",
   "metadata": {},
   "source": [
    "Here we see we have 1 GPU present, indicating that the GPU driver is loaded, along with other information about temperature, power consumption, memory allocated and compute utilization. These values can also be queried directly for example for utilization:"
   ]
  },
  {
   "cell_type": "code",
   "execution_count": 2,
   "id": "b6ebd32c-1363-4ad6-92d8-0da4a1e2bad7",
   "metadata": {},
   "outputs": [
    {
     "name": "stdout",
     "output_type": "stream",
     "text": [
      "\n",
      "\n",
      "============================ ROCm System Management Interface ============================\n",
      "=================================== % time GPU is busy ===================================\n",
      "GPU[0]\t\t: GPU use (%): 1\n",
      "==========================================================================================\n",
      "================================== End of ROCm SMI Log ===================================\n"
     ]
    }
   ],
   "source": [
    "! rocm-smi -u"
   ]
  },
  {
   "cell_type": "markdown",
   "id": "1fc869e6-6a42-4785-b5af-61be9b16eb28",
   "metadata": {
    "scrolled": true
   },
   "source": [
    "A full listing of parameters can be seen by passing the -h parameters. Modify the cell below to use a parameter of your choice."
   ]
  },
  {
   "cell_type": "code",
   "execution_count": 3,
   "id": "5e8980d9-ce2e-4e06-9199-fe518e04289d",
   "metadata": {
    "scrolled": true
   },
   "outputs": [
    {
     "name": "stdout",
     "output_type": "stream",
     "text": [
      "usage: rocm-smi [-h] [-V] [-d DEVICE [DEVICE ...]] [--alldevices] [--showhw] [-a] [-i] [-v] [-e [EVENT ...]]\n",
      "                [--showdriverversion] [--showtempgraph] [--showfwinfo [BLOCK ...]] [--showmclkrange] [--showmemvendor]\n",
      "                [--showsclkrange] [--showproductname] [--showserial] [--showuniqueid] [--showvoltagerange] [--showbus]\n",
      "                [--showpagesinfo] [--showpendingpages] [--showretiredpages] [--showunreservablepages] [-f] [-P] [-t]\n",
      "                [-u] [--showmemuse] [--showvoltage] [-b] [-c] [-g] [-l] [-M] [-m] [-o] [-p] [-S] [-s]\n",
      "                [--showmeminfo TYPE [TYPE ...]] [--showpids [VERBOSE]] [--showpidgpus [SHOWPIDGPUS ...]]\n",
      "                [--showreplaycount] [--showrasinfo [SHOWRASINFO ...]] [--showvc] [--showxgmierr] [--showtopo]\n",
      "                [--showtopoaccess] [--showtopoweight] [--showtopohops] [--showtopotype] [--showtoponuma]\n",
      "                [--showenergycounter] [--shownodesbw] [--showcomputepartition] [--showmemorypartition] [--showmetrics]\n",
      "                [-r] [--resetfans] [--resetprofile] [--resetpoweroverdrive] [--resetxgmierr] [--resetperfdeterminism]\n",
      "                [--setclock TYPE LEVEL] [--setsclk LEVEL [LEVEL ...]] [--setmclk LEVEL [LEVEL ...]]\n",
      "                [--setpcie LEVEL [LEVEL ...]] [--setslevel SCLKLEVEL SCLK SVOLT] [--setmlevel MCLKLEVEL MCLK MVOLT]\n",
      "                [--setvc POINT SCLK SVOLT] [--setsrange SCLKMIN SCLKMAX] [--setextremum min|max sclk|mclk CLK]\n",
      "                [--setmrange MCLKMIN MCLKMAX] [--setfan LEVEL] [--setperflevel LEVEL] [--setoverdrive %]\n",
      "                [--setmemoverdrive %] [--setpoweroverdrive WATTS] [--setprofile SETPROFILE] [--setperfdeterminism SCLK]\n",
      "                [--setcomputepartition {SPX,DPX,TPX,QPX,CPX,spx,dpx,tpx,qpx,cpx}]\n",
      "                [--setmemorypartition {NPS1,NPS2,NPS4,NPS8,nps1,nps2,nps4,nps8}] [--rasenable BLOCK ERRTYPE]\n",
      "                [--rasdisable BLOCK ERRTYPE] [--rasinject BLOCK] [--gpureset] [--load FILE | --save FILE]\n",
      "                [--autorespond RESPONSE] [--loglevel LEVEL] [--json] [--csv]\n",
      "\n",
      "AMD ROCm System Management Interface | ROCM-SMI version: 4.0.0+dd54e5d\n",
      "\n",
      "options:\n",
      "  -h, --help                                                       show this help message and exit\n",
      "  --gpureset                                                       Reset specified GPU (One GPU must be specified)\n",
      "  --load FILE                                                      Load Clock, Fan, Performance and Profile settings\n",
      "                                                                   from FILE\n",
      "  --save FILE                                                      Save Clock, Fan, Performance and Profile settings to\n",
      "                                                                   FILE\n",
      "\n",
      "  -V, --version                                                    Show version information\n",
      "\n",
      "  -d DEVICE [DEVICE ...], --device DEVICE [DEVICE ...]             Execute command on specified device\n",
      "\n",
      "Display Options:\n",
      "  --alldevices\n",
      "  --showhw                                                         Show Hardware details\n",
      "  -a, --showallinfo                                                Show Temperature, Fan and Clock values\n",
      "\n",
      "Topology:\n",
      "  -i, --showid                                                     Show DEVICE IDs\n",
      "  -v, --showvbios                                                  Show VBIOS version\n",
      "  -e [EVENT ...], --showevents [EVENT ...]                         Show event list\n",
      "  --showdriverversion                                              Show kernel driver version\n",
      "  --showtempgraph                                                  Show Temperature Graph\n",
      "  --showfwinfo [BLOCK ...]                                         Show FW information\n",
      "  --showmclkrange                                                  Show mclk range\n",
      "  --showmemvendor                                                  Show GPU memory vendor\n",
      "  --showsclkrange                                                  Show sclk range\n",
      "  --showproductname                                                Show product details\n",
      "  --showserial                                                     Show GPU's Serial Number\n",
      "  --showuniqueid                                                   Show GPU's Unique ID\n",
      "  --showvoltagerange                                               Show voltage range\n",
      "  --showbus                                                        Show PCI bus number\n",
      "\n",
      "Pages information:\n",
      "  --showpagesinfo                                                  Show retired, pending and unreservable pages\n",
      "  --showpendingpages                                               Show pending retired pages\n",
      "  --showretiredpages                                               Show retired pages\n",
      "  --showunreservablepages                                          Show unreservable pages\n",
      "\n",
      "Hardware-related information:\n",
      "  -f, --showfan                                                    Show current fan speed\n",
      "  -P, --showpower                                                  Show current average or instant socket graphics\n",
      "                                                                   package power consumption\n",
      "  -t, --showtemp                                                   Show current temperature\n",
      "  -u, --showuse                                                    Show current GPU use\n",
      "  --showmemuse                                                     Show current GPU memory used\n",
      "  --showvoltage                                                    Show current GPU voltage\n",
      "\n",
      "Software-related/controlled information:\n",
      "  -b, --showbw                                                     Show estimated PCIe use\n",
      "  -c, --showclocks                                                 Show current clock frequencies\n",
      "  -g, --showgpuclocks                                              Show current GPU clock frequencies\n",
      "  -l, --showprofile                                                Show Compute Profile attributes\n",
      "  -M, --showmaxpower                                               Show maximum graphics package power this GPU will\n",
      "                                                                   consume\n",
      "  -m, --showmemoverdrive                                           Show current GPU Memory Clock OverDrive level\n",
      "  -o, --showoverdrive                                              Show current GPU Clock OverDrive level\n",
      "  -p, --showperflevel                                              Show current DPM Performance Level\n",
      "  -S, --showclkvolt                                                Show supported GPU and Memory Clocks and Voltages\n",
      "  -s, --showclkfrq                                                 Show supported GPU and Memory Clock\n",
      "  --showmeminfo TYPE [TYPE ...]                                    Show Memory usage information for given block(s) TYPE\n",
      "  --showpids [VERBOSE]                                             Show current running KFD PIDs (pass details to\n",
      "                                                                   VERBOSE for detailed information)\n",
      "  --showpidgpus [SHOWPIDGPUS ...]                                  Show GPUs used by specified KFD PIDs (all if no arg\n",
      "                                                                   given)\n",
      "  --showreplaycount                                                Show PCIe Replay Count\n",
      "  --showrasinfo [SHOWRASINFO ...]                                  Show RAS enablement information and error counts for\n",
      "                                                                   the specified block(s) (all if no arg given)\n",
      "  --showvc                                                         Show voltage curve\n",
      "  --showxgmierr                                                    Show XGMI error information since last read\n",
      "  --showtopo                                                       Show hardware topology information\n",
      "  --showtopoaccess                                                 Shows the link accessibility between GPUs\n",
      "  --showtopoweight                                                 Shows the relative weight between GPUs\n",
      "  --showtopohops                                                   Shows the number of hops between GPUs\n",
      "  --showtopotype                                                   Shows the link type between GPUs\n",
      "  --showtoponuma                                                   Shows the numa nodes\n",
      "  --showenergycounter                                              Energy accumulator that stores amount of energy\n",
      "                                                                   consumed\n",
      "  --shownodesbw                                                    Shows the numa nodes\n",
      "  --showcomputepartition                                           Shows current compute partitioning\n",
      "  --showmemorypartition                                            Shows current memory partition\n",
      "  --showmetrics                                                    Show current gpu metric data\n",
      "\n",
      "Set options:\n",
      "  --setclock TYPE LEVEL                                            Set Clock Frequency Level(s) for specified clock\n",
      "                                                                   (requires manual Perf level)\n",
      "  --setsclk LEVEL [LEVEL ...]                                      Set GPU Clock Frequency Level(s) (requires manual\n",
      "                                                                   Perf level)\n",
      "  --setmclk LEVEL [LEVEL ...]                                      Set GPU Memory Clock Frequency Level(s) (requires\n",
      "                                                                   manual Perf level)\n",
      "  --setpcie LEVEL [LEVEL ...]                                      Set PCIE Clock Frequency Level(s) (requires manual\n",
      "                                                                   Perf level)\n",
      "  --setslevel SCLKLEVEL SCLK SVOLT                                 Change GPU Clock frequency (MHz) and Voltage (mV) for\n",
      "                                                                   a specific Level\n",
      "  --setmlevel MCLKLEVEL MCLK MVOLT                                 Change GPU Memory clock frequency (MHz) and Voltage\n",
      "                                                                   for (mV) a specific Level\n",
      "  --setvc POINT SCLK SVOLT                                         Change SCLK Voltage Curve (MHz mV) for a specific\n",
      "                                                                   point\n",
      "  --setsrange SCLKMIN SCLKMAX                                      Set min and max SCLK speed\n",
      "  --setextremum min|max sclk|mclk CLK                              Set min/max of SCLK/MCLK speed\n",
      "  --setmrange MCLKMIN MCLKMAX                                      Set min and max MCLK speed\n",
      "  --setfan LEVEL                                                   Set GPU Fan Speed (Level or %)\n",
      "  --setperflevel LEVEL                                             Set Performance Level\n",
      "  --setoverdrive %                                                 Set GPU OverDrive level (requires manual|high Perf\n",
      "                                                                   level)\n",
      "  --setmemoverdrive %                                              Set GPU Memory Overclock OverDrive level (requires\n",
      "                                                                   manual|high Perf level)\n",
      "  --setpoweroverdrive WATTS                                        Set the maximum GPU power using Power OverDrive in\n",
      "                                                                   Watts\n",
      "  --setprofile SETPROFILE                                          Specify Power Profile level (#) or a quoted string of\n",
      "                                                                   CUSTOM Profile attributes \"# # # #...\" (requires\n",
      "                                                                   manual Perf level)\n",
      "  --setperfdeterminism SCLK                                        Set clock frequency limit to get minimal performance\n",
      "                                                                   variation\n",
      "  --setcomputepartition {SPX,DPX,TPX,QPX,CPX,spx,dpx,tpx,qpx,cpx}  Set compute partition\n",
      "  --setmemorypartition {NPS1,NPS2,NPS4,NPS8,nps1,nps2,nps4,nps8}   Set memory partition\n",
      "  --rasenable BLOCK ERRTYPE                                        Enable RAS for specified block and error type\n",
      "  --rasdisable BLOCK ERRTYPE                                       Disable RAS for specified block and error type\n",
      "  --rasinject BLOCK                                                Inject RAS poison for specified block (ONLY WORKS ON\n",
      "                                                                   UNSECURED BOARDS)\n",
      "\n",
      "Reset options:\n",
      "  -r, --resetclocks                                                Reset clocks and OverDrive to default\n",
      "  --resetfans                                                      Reset fans to automatic (driver) control\n",
      "  --resetprofile                                                   Reset Power Profile back to default\n",
      "  --resetpoweroverdrive                                            Set the maximum GPU power back to the device default\n",
      "                                                                   state\n",
      "  --resetxgmierr                                                   Reset XGMI error count\n",
      "  --resetperfdeterminism                                           Disable performance determinism\n",
      "\n",
      "Auto-response options:\n",
      "  --autorespond RESPONSE                                           Response to automatically provide for all prompts\n",
      "                                                                   (NOT RECOMMENDED)\n",
      "\n",
      "Output options:\n",
      "  --loglevel LEVEL                                                 How much output will be printed for what program is\n",
      "                                                                   doing, one of debug/info/warning/error/critical\n",
      "  --json                                                           Print output in JSON format\n",
      "  --csv                                                            Print output in CSV format\n"
     ]
    }
   ],
   "source": [
    "! rocm-smi -h"
   ]
  },
  {
   "cell_type": "markdown",
   "id": "d07b5de6-751b-4940-bdf6-27a2dc3a3fdb",
   "metadata": {},
   "source": [
    "## amdgpu_top\n",
    "\n",
    "`amdgpu_top` is another utility providing realtime statistics of AMD GPUs including utilization, memory consumption and specifics of individual processes. In a separate terminal, launch `amdgpu_top`. It can be closed by typing `q`. "
   ]
  },
  {
   "cell_type": "markdown",
   "id": "5b21e3a5-8f1e-447c-b5ed-39de8d029bee",
   "metadata": {},
   "source": [
    "![](images/new_terminal.png)"
   ]
  },
  {
   "cell_type": "markdown",
   "id": "8fbba9fe-e703-4d3e-866c-9d790456eb10",
   "metadata": {
    "jp-MarkdownHeadingCollapsed": true
   },
   "source": [
    "`amdgpu_top`"
   ]
  },
  {
   "cell_type": "markdown",
   "id": "f4cb52b5-fff2-48f3-96a2-54e13c2c14ef",
   "metadata": {},
   "source": [
    "## Vulkan\n",
    "\n",
    "Running the `vulkaninfo` command enumerates the features of any GPUs present. Running the command below gives a summary of your system and validates that the vulkan environment is correctly setup. If running on the AMD AUP cloud, this command will show the presence of a  Strix Halo GPU (gfx1151)."
   ]
  },
  {
   "cell_type": "code",
   "execution_count": 4,
   "id": "ecede7e7-a819-430a-ba98-71ffb9380441",
   "metadata": {
    "jp-MarkdownHeadingCollapsed": true,
    "scrolled": true
   },
   "outputs": [
    {
     "name": "stdout",
     "output_type": "stream",
     "text": [
      "==========\n",
      "VULKANINFO\n",
      "==========\n",
      "\n",
      "Vulkan Instance Version: 1.4.313\n",
      "\n",
      "\n",
      "Instance Extensions: count = 24\n",
      "-------------------------------\n",
      "VK_EXT_acquire_drm_display             : extension revision 1\n",
      "VK_EXT_acquire_xlib_display            : extension revision 1\n",
      "VK_EXT_debug_report                    : extension revision 10\n",
      "VK_EXT_debug_utils                     : extension revision 2\n",
      "VK_EXT_direct_mode_display             : extension revision 1\n",
      "VK_EXT_display_surface_counter         : extension revision 1\n",
      "VK_EXT_headless_surface                : extension revision 1\n",
      "VK_EXT_surface_maintenance1            : extension revision 1\n",
      "VK_EXT_swapchain_colorspace            : extension revision 5\n",
      "VK_KHR_device_group_creation           : extension revision 1\n",
      "VK_KHR_display                         : extension revision 23\n",
      "VK_KHR_external_fence_capabilities     : extension revision 1\n",
      "VK_KHR_external_memory_capabilities    : extension revision 1\n",
      "VK_KHR_external_semaphore_capabilities : extension revision 1\n",
      "VK_KHR_get_display_properties2         : extension revision 1\n",
      "VK_KHR_get_physical_device_properties2 : extension revision 2\n",
      "VK_KHR_get_surface_capabilities2       : extension revision 1\n",
      "VK_KHR_portability_enumeration         : extension revision 1\n",
      "VK_KHR_surface                         : extension revision 25\n",
      "VK_KHR_surface_protected_capabilities  : extension revision 1\n",
      "VK_KHR_wayland_surface                 : extension revision 6\n",
      "VK_KHR_xcb_surface                     : extension revision 6\n",
      "VK_KHR_xlib_surface                    : extension revision 6\n",
      "VK_LUNARG_direct_driver_loading        : extension revision 1\n",
      "\n",
      "Instance Layers: count = 12\n",
      "---------------------------\n",
      "VK_LAYER_INTEL_nullhw             INTEL NULL HW                                                                                                     1.1.73   version 1\n",
      "VK_LAYER_KHRONOS_profiles         Khronos Profiles layer                                                                                            1.4.313  version 1\n",
      "VK_LAYER_KHRONOS_shader_object    Khronos Shader object layer                                                                                       1.4.313  version 1\n",
      "VK_LAYER_KHRONOS_synchronization2 Khronos Synchronization2 layer                                                                                    1.4.313  version 1\n",
      "VK_LAYER_KHRONOS_validation       Khronos Validation Layer                                                                                          1.4.313  version 1\n",
      "VK_LAYER_LUNARG_api_dump          LunarG API dump layer                                                                                             1.4.313  version 2\n",
      "VK_LAYER_LUNARG_crash_diagnostic  Crash Diagnostic Layer is a crash/hang debugging tool that helps determines GPU progress in a Vulkan application. 1.4.313  version 1\n",
      "VK_LAYER_LUNARG_gfxreconstruct    GFXReconstruct Capture Layer Version 1.0.5-unknown                                                                1.4.313  version 4194309\n",
      "VK_LAYER_LUNARG_monitor           Execution Monitoring Layer                                                                                        1.4.313  version 1\n",
      "VK_LAYER_LUNARG_screenshot        LunarG image capture layer                                                                                        1.4.313  version 1\n",
      "VK_LAYER_MESA_device_select       Linux device selection layer                                                                                      1.4.303  version 1\n",
      "VK_LAYER_MESA_overlay             Mesa Overlay layer                                                                                                1.4.303  version 1\n",
      "\n",
      "Devices:\n",
      "========\n",
      "GPU0:\n",
      "\tapiVersion         = 1.4.305\n",
      "\tdriverVersion      = 25.0.7\n",
      "\tvendorID           = 0x1002\n",
      "\tdeviceID           = 0x1586\n",
      "\tdeviceType         = PHYSICAL_DEVICE_TYPE_INTEGRATED_GPU\n",
      "\tdeviceName         = AMD Radeon Graphics (RADV GFX1151)\n",
      "\tdriverID           = DRIVER_ID_MESA_RADV\n",
      "\tdriverName         = radv\n",
      "\tdriverInfo         = Mesa 25.0.7-0ubuntu0.24.04.2\n",
      "\tconformanceVersion = 1.4.0.0\n",
      "\tdeviceUUID         = 00000000-c500-0000-0000-000000000000\n",
      "\tdriverUUID         = 414d442d-4d45-5341-2d44-525600000000\n",
      "GPU1:\n",
      "\tapiVersion         = 1.4.305\n",
      "\tdriverVersion      = 0.0.1\n",
      "\tvendorID           = 0x10005\n",
      "\tdeviceID           = 0x0000\n",
      "\tdeviceType         = PHYSICAL_DEVICE_TYPE_CPU\n",
      "\tdeviceName         = llvmpipe (LLVM 20.1.2, 256 bits)\n",
      "\tdriverID           = DRIVER_ID_MESA_LLVMPIPE\n",
      "\tdriverName         = llvmpipe\n",
      "\tdriverInfo         = Mesa 25.0.7-0ubuntu0.24.04.2 (LLVM 20.1.2)\n",
      "\tconformanceVersion = 1.3.1.1\n",
      "\tdeviceUUID         = 6d657361-3235-2e30-2e37-2d3075627500\n",
      "\tdriverUUID         = 6c6c766d-7069-7065-5555-494400000000\n"
     ]
    }
   ],
   "source": [
    "! vulkaninfo --summary"
   ]
  },
  {
   "cell_type": "markdown",
   "id": "03a8bc04-db50-4f3a-aff6-c1986db5e00d",
   "metadata": {},
   "source": [
    "## HIP\n",
    "\n",
    "In this example you can use HIP to query properties of the GPU. `hipcc` is the HIP compiler. We pass a file called `test.hip` to the compiler which outputs `test` as an executable output. In this example we detect the name and total memory available to the GPU.\n"
   ]
  },
  {
   "cell_type": "code",
   "execution_count": 1,
   "id": "fcf440fa-04d8-4380-8b3e-9ff9defd729b",
   "metadata": {
    "jp-MarkdownHeadingCollapsed": true
   },
   "outputs": [
    {
     "name": "stdout",
     "output_type": "stream",
     "text": [
      "Hello ROSCON\n",
      "GPU detected: AMD Radeon Graphics\n",
      "Total memory: 98304 MB\n"
     ]
    }
   ],
   "source": [
    "! hipcc hip/test.hip -o hip/test && ./hip/test"
   ]
  },
  {
   "cell_type": "markdown",
   "id": "5996e933-b459-4d36-adeb-f2d81cd4190f",
   "metadata": {
    "jp-MarkdownHeadingCollapsed": true
   },
   "source": [
    "You can inspect the code by running the cell below"
   ]
  },
  {
   "cell_type": "code",
   "execution_count": 9,
   "id": "dd369436-5ada-4be9-ac49-d0109189dd45",
   "metadata": {},
   "outputs": [
    {
     "name": "stdout",
     "output_type": "stream",
     "text": [
      "#include <iostream>\n",
      "#include <hip/hip_runtime.h>\n",
      "\n",
      "int main (void) {\n",
      "    // Detect platform\n",
      "    hipDeviceProp_t dProperties;\n",
      "    auto err = hipGetDeviceProperties(&dProperties, 0);\n",
      "    \n",
      "    if(err!=HIP_SUCCESS) {\n",
      "        return -1;\n",
      "    }\n",
      "    std::cout << \"Hello ROSCON\" << std::endl;\n",
      "    std::cout << \"GPU detected: \" << dProperties.name << std::endl;\n",
      "    std::cout << \"Total memory: \" << dProperties.totalGlobalMem /1024 /1024 << \" MB\" << std::endl;\n",
      "    return 0;\n",
      "}"
     ]
    }
   ],
   "source": [
    "! cat hip/test.hip"
   ]
  },
  {
   "cell_type": "markdown",
   "id": "79f95ba8-067f-44ca-bf6d-160669a52b0b",
   "metadata": {},
   "source": [
    "## Key Takeaways\n",
    "\n",
    "In this notebook you have learned\n",
    "\n",
    "- How to use `rocm-smi` and `amdgpu_top` to monitor GPU status.\n",
    "- How to use `vulkaninfo` to verify your Vulkan installation.\n",
    "- How to compile a basic HIP program.\n",
    "\n",
    "## Cleanup\n",
    "\n",
    "Make sure to `ctrl+c` and close the terminals before moving onto the next notebook."
   ]
  },
  {
   "cell_type": "markdown",
   "id": "ac2313db-cc41-4589-b2d9-4974abe55ca7",
   "metadata": {},
   "source": [
    "## References\n",
    "\n",
    "* [Vulkan](https://www.vulkan.org/)\n",
    "* [rocm-smi](https://rocm.docs.amd.com/projects/rocm_smi_lib/en/latest/)\n",
    "* [amdgpu_top](https://github.com/Umio-Yasuno/amdgpu_top)"
   ]
  },
  {
   "cell_type": "markdown",
   "id": "b285bb33-051c-4edb-bb43-14e4efa00fde",
   "metadata": {},
   "source": [
    "**Continue to:** [2_running_llms.ipynb](2_running_llms.ipynb)\n",
    "\n",
    "\n",
    "---\n",
    "Copyright© 2025 AMD, Inc SPDX-License-Identifier: MIT"
   ]
  },
  {
   "cell_type": "code",
   "execution_count": null,
   "id": "122c1bb6-d6a6-45b4-9ac1-5b2c79fc5e30",
   "metadata": {},
   "outputs": [],
   "source": []
  }
 ],
 "metadata": {
  "kernelspec": {
   "display_name": "Python 3 (ipykernel)",
   "language": "python",
   "name": "python3"
  },
  "language_info": {
   "codemirror_mode": {
    "name": "ipython",
    "version": 3
   },
   "file_extension": ".py",
   "mimetype": "text/x-python",
   "name": "python",
   "nbconvert_exporter": "python",
   "pygments_lexer": "ipython3",
   "version": "3.12.3"
  }
 },
 "nbformat": 4,
 "nbformat_minor": 5
}
