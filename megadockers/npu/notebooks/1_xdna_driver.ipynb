{
 "cells": [
  {
   "cell_type": "markdown",
   "id": "c40de3af-a59f-4fce-9977-7ddea5fc67c4",
   "metadata": {},
   "source": [
    "# Working with the NPU driver\n",
    "\n",
    "![](images/xdna_arch.png)\n",
    "\n",
    "A Neural Processing Unit (NPU) is a specialized processing unit designed to excel in Machine Learning inference tasks. An NPU boosts the speed and efficiency of machine learning tasks on your computer while consuming significantly less power than traditional CPU or GPU approaches. \n",
    "\n",
    "The NPU is another accelerator with its own set of tools and utilities, which are distinct but similar to existing utilities you may be familiar with. In this notebook we'll walk through how to use the utilities that get shipped with the XDNA driver, which help us inspect the status of the device.\n",
    "\n",
    "## Goals\n",
    "\n",
    "* Get to know the XDNA driver\n",
    "* Learn to use `xrt-smi` to check status\n",
    "* Validate your device before moving on\n",
    "\n",
    "## References\n",
    "\n",
    "* [XDNA Driver Repo](https://github.com/amd/xdna-driver)\n",
    "* [NPU Management Docs](https://ryzenai.docs.amd.com/en/latest/xrt_smi.html)\n",
    "* [AMD_XDNA](https://en.wikipedia.org/wiki/AMD_XDNA)\n",
    "\n",
    "## The XDNA Driver\n",
    "\n",
    "The NPU is based on the XDNA microarchitecture. This architecture contains an AI Engine (AIE) array composed of dense compute cores tuned for Machine Learning (ML) workload operations like convolutions and matrix multiplications. In order to program this device we need to utilize a kernel-level driver `amdxdna.ko`.\n",
    "\n",
    "We can actually check if the driver is loaded using `lsmod`:"
   ]
  },
  {
   "cell_type": "code",
   "execution_count": 9,
   "id": "abc1acfa-fd88-4210-aada-ed1216a6d92c",
   "metadata": {},
   "outputs": [
    {
     "name": "stdout",
     "output_type": "stream",
     "text": [
      "amdxdna               335872  0\n",
      "gpu_sched              61440  2 amdxdna,amdgpu\n"
     ]
    }
   ],
   "source": [
    "!sudo lsmod | grep amdxdna"
   ]
  },
  {
   "cell_type": "markdown",
   "id": "7708b2ee-bf67-4ca8-880b-44ea7af0eddc",
   "metadata": {},
   "source": [
    "The NPU device like many accelerators use the kernel's existing scheduling infrastructure hence it shows up under `gpu_sched`. For the purposes of running on code on this accelerator we just want to make sure that the kernel module is loaded."
   ]
  },
  {
   "cell_type": "markdown",
   "id": "77612d75-c7c2-4473-85e5-0e03cde7cc6a",
   "metadata": {},
   "source": [
    "## Examining the Device\n",
    "\n",
    "Much like the GPU where you have utilities like `rocm-smi` to view the status and resource usage, when we work with the NPU we use `xrt-smi`. Here's a quick rundown of the options for this utility:"
   ]
  },
  {
   "cell_type": "code",
   "execution_count": 2,
   "id": "f130aa30-bade-49be-b2db-c9b37e5854fa",
   "metadata": {},
   "outputs": [
    {
     "name": "stdout",
     "output_type": "stream",
     "text": [
      "\u001b[38;5;3m\n",
      "DESCRIPTION: \u001b[38;5;111mThe XRT - System Management Interface (xrt-smi) is a standalone command-line utility\n",
      "             that is included with the XRT runtime package. It includes multiple commands to\n",
      "             configure, examine, and validate supported device(s).\n",
      "             \n",
      "             The reports produced by xrt-smi may be used for device administration, monitoring, and\n",
      "             troubleshooting application behavior.\n",
      "\u001b[39m\u001b[38;5;3m\n",
      "USAGE: \u001b[38;5;252mxrt-smi [--help] [--version] [--verbose] [--batch] [--force] [command [commandArgs]]\n",
      "\u001b[39m\u001b[38;5;3m\n",
      "AVAILABLE COMMANDS:\n",
      "\u001b[39m\u001b[38;5;140m  configure  \u001b[38;5;111m- Device and host configuration\n",
      "\u001b[39m\u001b[38;5;140m  examine    \u001b[38;5;111m- Status of the system and device\n",
      "\u001b[39m\u001b[38;5;140m  validate   \u001b[38;5;111m- Validates the basic device acceleration functionality\n",
      "\u001b[39m\u001b[38;5;3m\n",
      "OPTIONS:\n",
      "\u001b[39m\u001b[38;5;65m  --help             \u001b[38;5;111m- Help to use this application\n",
      "\u001b[39m\u001b[38;5;65m  --version          \u001b[38;5;111m- Report the version of XRT and its drivers\n",
      "\u001b[39m\u001b[38;5;65m  --verbose          \u001b[38;5;111m- Turn on verbosity\n",
      "\u001b[39m\u001b[38;5;65m  --batch            \u001b[38;5;111m- Enable batch mode (disables escape characters)\n",
      "\u001b[39m\u001b[38;5;65m  --force            \u001b[38;5;111m- When possible, force an operation\n",
      "\u001b[39m"
     ]
    }
   ],
   "source": [
    "!sudo /opt/xilinx/xrt/bin/xrt-smi --help"
   ]
  },
  {
   "cell_type": "markdown",
   "id": "0c32a55a-65c0-4b32-8150-4191d4f8243d",
   "metadata": {},
   "source": [
    "Most commonly you will want to use the `examine` command. This will give you a system overview as well as driver and firmware info -- crucial when submitting bug reports and debugging!"
   ]
  },
  {
   "cell_type": "code",
   "execution_count": 3,
   "id": "549840bb-ac0e-4871-ae9e-34b7e0dae640",
   "metadata": {},
   "outputs": [
    {
     "name": "stdout",
     "output_type": "stream",
     "text": [
      "System Configuration\n",
      "  OS Name              : Linux\n",
      "  Release              : 6.14.0-33-generic\n",
      "  Machine              : x86_64\n",
      "  CPU Cores            : 32\n",
      "  Memory               : 31725 MB\n",
      "  Distribution         : Ubuntu 24.04.3 LTS\n",
      "  GLIBC                : 2.39\n",
      "  Model                : NucBox_EVO-X2\n",
      "  BIOS Vendor          : American Megatrends International, LLC.\n",
      "  BIOS Version         : EVO-X2 1.05\n",
      "\n",
      "XRT\n",
      "  Version              : 2.20.0\n",
      "  Branch               : HEAD\n",
      "  Hash                 : 021204355eeaa034ff69aae407ace2265adf047a\n",
      "  Hash Date            : 2025-10-08 22:07:29\n",
      "  amdxdna              : 2.20.0_20251007, 0ad5aa3765bb969135df1ae8ee26dae0bf65559a\n",
      "  virtio-pci           : unknown, unknown\n",
      "  NPU Firmware Version : 255.0.4.33\n",
      "\n",
      "Device(s) Present\n",
      "|BDF             |Name            |\n",
      "|----------------|----------------|\n",
      "|[0000:c6:00.1]  |NPU Strix Halo  |\n",
      "\n",
      "\n"
     ]
    }
   ],
   "source": [
    "!sudo /opt/xilinx/xrt/bin/xrt-smi examine"
   ]
  },
  {
   "cell_type": "markdown",
   "id": "1564cdc3-3726-4960-8ddd-98ecfda01f5f",
   "metadata": {},
   "source": [
    "The hashes correspond to commits the driver was built with - this is all open source and you can always update your driver to the bleeding edge by building from https://github.com/amd/xdna-driver.\n",
    "\n",
    "We can scope down and report only the platform information about the NPU device."
   ]
  },
  {
   "cell_type": "code",
   "execution_count": 4,
   "id": "e7965598-3939-43dc-9402-9b7fde2157ec",
   "metadata": {},
   "outputs": [
    {
     "name": "stdout",
     "output_type": "stream",
     "text": [
      "\n",
      "--------------------------------\n",
      "[0000:c6:00.1] : NPU Strix Halo\n",
      "--------------------------------\n",
      "Platform\n",
      "  Name                   : NPU Strix Halo \n",
      "  Power Mode             : Default \n",
      "  Total Columns          : 8 \n",
      "\n",
      "Estimated Power          : N/A\n",
      "\n"
     ]
    }
   ],
   "source": [
    "!sudo /opt/xilinx/xrt/bin/xrt-smi examine --report platform"
   ]
  },
  {
   "cell_type": "markdown",
   "id": "da864487-2fd5-4adb-ba83-d54170eb94e0",
   "metadata": {},
   "source": [
    "Note that some features like power estimation may not be available on all platforms, but this is a useful probe to check the device class, how big it is and whether the power mode has been changed.\n",
    "\n",
    "## Reporting Hardware Contexts\n",
    "\n",
    "This is a super important command because it will give you a populated list of running NPU applications. Sometimes when developing on the NPU or if you download an application that is meant to run on this platform you will want to know if it is **actually** running on the NPU. How can you tell?\n",
    "\n",
    "**Hardware contexts** are spatial allocations on the NPU array for a given application. The XDNA driver and NPU firmware work together to provision a spatial partition on the NPU's array, dedicating a set of columns for the workload.\n",
    "\n",
    "To examine these allocations we use the `--report aie-partitions` suboption."
   ]
  },
  {
   "cell_type": "code",
   "execution_count": 5,
   "id": "f3be6e60-604c-48d3-938c-96c7189a54c4",
   "metadata": {},
   "outputs": [
    {
     "name": "stdout",
     "output_type": "stream",
     "text": [
      "\n",
      "--------------------------------\n",
      "[0000:c6:00.1] : NPU Strix Halo\n",
      "--------------------------------\n",
      "AIE Partitions\n",
      "  No hardware contexts running on device\n",
      "\n"
     ]
    }
   ],
   "source": [
    "!sudo /opt/xilinx/xrt/bin/xrt-smi examine --report aie-partitions"
   ]
  },
  {
   "cell_type": "markdown",
   "id": "ff8fd96e-4f87-489d-9e6a-06347b0633bd",
   "metadata": {},
   "source": [
    "If nothing is running on the NPU this is the expected output. Additionally you can also use a handy all-in-one `--report all` suboption, to report everything! Again, knowing the system state is very useful for debugging."
   ]
  },
  {
   "cell_type": "code",
   "execution_count": 6,
   "id": "04521ff9-9f3e-4eb1-abd2-0ef9804209b3",
   "metadata": {},
   "outputs": [
    {
     "name": "stdout",
     "output_type": "stream",
     "text": [
      "System Configuration\n",
      "  OS Name              : Linux\n",
      "  Release              : 6.14.0-33-generic\n",
      "  Machine              : x86_64\n",
      "  CPU Cores            : 32\n",
      "  Memory               : 31725 MB\n",
      "  Distribution         : Ubuntu 24.04.3 LTS\n",
      "  GLIBC                : 2.39\n",
      "  Model                : NucBox_EVO-X2\n",
      "  BIOS Vendor          : American Megatrends International, LLC.\n",
      "  BIOS Version         : EVO-X2 1.05\n",
      "\n",
      "XRT\n",
      "  Version              : 2.20.0\n",
      "  Branch               : HEAD\n",
      "  Hash                 : 021204355eeaa034ff69aae407ace2265adf047a\n",
      "  Hash Date            : 2025-10-08 22:07:29\n",
      "  amdxdna              : 2.20.0_20251007, 0ad5aa3765bb969135df1ae8ee26dae0bf65559a\n",
      "  virtio-pci           : unknown, unknown\n",
      "  NPU Firmware Version : 255.0.4.33\n",
      "\n",
      "Device(s) Present\n",
      "|BDF             |Name            |\n",
      "|----------------|----------------|\n",
      "|[0000:c6:00.1]  |NPU Strix Halo  |\n",
      "\n",
      "\n",
      "\n",
      "--------------------------------\n",
      "[0000:c6:00.1] : NPU Strix Halo\n",
      "--------------------------------\n",
      "AIE Partitions\n",
      "  No hardware contexts running on device\n",
      "\n",
      "Platform\n",
      "  Name                   : NPU Strix Halo \n",
      "  Power Mode             : Default \n",
      "  Total Columns          : 8 \n",
      "\n",
      "Estimated Power          : N/A\n",
      "\n"
     ]
    }
   ],
   "source": [
    "!sudo /opt/xilinx/xrt/bin/xrt-smi examine --report all"
   ]
  },
  {
   "cell_type": "markdown",
   "id": "a5e12aea-996d-41a6-81ba-5af2426e6010",
   "metadata": {},
   "source": [
    "## Validating device\n",
    "\n",
    "OK now that we know that the NPU device exists and we can probe it for more info let's validate that the driver works as intended in our environment. We can use the `validate` subcommand for this. It will run a series of standard tests, and if everything passes we can be fairly confident that our device is functioning as intended."
   ]
  },
  {
   "cell_type": "code",
   "execution_count": 7,
   "id": "a9dbb227-56b5-453a-b834-204267c1020e",
   "metadata": {},
   "outputs": [
    {
     "name": "stdout",
     "output_type": "stream",
     "text": [
      "WARNING: User doesn't have admin permissions to set performance mode. Running validate in Default mode\n",
      "Validate Device           : [0000:c6:00.1]\n",
      "    Platform              : NPU Strix Halo\n",
      "    Power Mode            : Default\n",
      "-------------------------------------------------------------------------------\n",
      "Running Test: ...\n",
      "Test 1 [0000:c6:00.1]     : gemm \n",
      "    Details               : TOPS: 51.0\n",
      "    Test Status           : [PASSED]\n",
      "-------------------------------------------------------------------------------\n",
      "Running Test: .\n",
      "Test 2 [0000:c6:00.1]     : latency \n",
      "    Details               : Average latency: 49.0 us\n",
      "    Test Status           : [PASSED]\n",
      "-------------------------------------------------------------------------------\n",
      "Running Test: .\n",
      "Test 3 [0000:c6:00.1]     : throughput \n",
      "    Details               : Average throughput: 82313.0 op/s\n",
      "    Test Status           : [PASSED]\n",
      "-------------------------------------------------------------------------------\n",
      "Validation completed. Please run the command '--verbose' option for more details\n"
     ]
    }
   ],
   "source": [
    "!sudo /opt/xilinx/xrt/bin/xrt-smi validate --batch"
   ]
  },
  {
   "cell_type": "markdown",
   "id": "c9845118-7527-4c7d-9a37-5feaa9e5573a",
   "metadata": {},
   "source": [
    "Excellent, your NPU device is operational and the driver is set up accordingly!\n",
    "\n",
    "## Examine NPU Usage\n",
    "\n",
    "Now that we have something that runs on the NPU - let's use what we learned to examine what a running application hardware context looks like.\n",
    "\n",
    "We'll create a subprocess to run our validation tests. And while that is running let's examine the aie-partitions report."
   ]
  },
  {
   "cell_type": "code",
   "execution_count": 8,
   "id": "29601e89-6eac-4311-8a31-d577cc93bbc7",
   "metadata": {},
   "outputs": [
    {
     "name": "stdout",
     "output_type": "stream",
     "text": [
      "Process started with PID: 854\n",
      "\n",
      "--------------------------------\n",
      "[0000:c6:00.1] : NPU Strix Halo\n",
      "--------------------------------\n",
      "AIE Partitions\n",
      "  Total Memory Usage: N/A\n",
      "  Partition Index   : 0\n",
      "    Columns: [0, 1, 2, 3, 4, 5, 6, 7]\n",
      "    HW Contexts:\n",
      "      |PID                 |Ctx ID     |Submissions |Migrations  |Err  |Priority |\n",
      "      |Process Name        |Status     |Completions |Suspensions |     |GOPS     |\n",
      "      |Memory Usage        |Instr BO   |            |            |     |FPS      |\n",
      "      |                    |           |            |            |     |Latency  |\n",
      "      |====================|===========|============|============|=====|=========|\n",
      "      |87585               |1          |160         |0           |0    |Normal   |\n",
      "      |N/A                 |Active     |159         |0           |     |N/A      |\n",
      "      |N/A                 |2476 KB    |            |            |     |N/A      |\n",
      "      |                    |           |            |            |     |N/A      |\n",
      "      |--------------------|-----------|------------|------------|-----|---------|\n"
     ]
    }
   ],
   "source": [
    "import subprocess\n",
    "import time\n",
    "\n",
    "# Run the command in the background\n",
    "process = subprocess.Popen(\n",
    "    ['sudo', '-E', '/opt/xilinx/xrt/bin/xrt-smi', 'validate'],\n",
    "    stdout=subprocess.PIPE,\n",
    "    stderr=subprocess.PIPE,\n",
    "    text=True\n",
    ")\n",
    "\n",
    "print(f\"Process started with PID: {process.pid}\")\n",
    "\n",
    "time.sleep(1) # give it a second for contexts to get populated\n",
    "!sudo /opt/xilinx/xrt/bin/xrt-smi examine --report aie-partitions"
   ]
  },
  {
   "cell_type": "markdown",
   "id": "b285bb33-051c-4edb-bb43-14e4efa00fde",
   "metadata": {},
   "source": [
    "Since the tests are utilizing the full array we see all 8 columns being used. Once we run our own applications, if we see this hw context table being populated we can be confident that the NPU is being used.\n",
    "\n",
    "## Next Steps\n",
    "\n",
    "Now that we know how utilities like `xrt-smi` work and how to use them to check NPU status and debug, let's move onto more practical programming exercises.\n",
    "\n",
    "**Continue to**: [2_ryzenai_cvml_library.ipynb](2_ryzenai_cvml_library.ipynb)\n",
    "\n",
    "---\n",
    "Copyright© 2025 AMD, Inc SPDX-License-Identifier: MIT"
   ]
  }
 ],
 "metadata": {
  "kernelspec": {
   "display_name": "Python 3 (ipykernel)",
   "language": "python",
   "name": "python3"
  },
  "language_info": {
   "codemirror_mode": {
    "name": "ipython",
    "version": 3
   },
   "file_extension": ".py",
   "mimetype": "text/x-python",
   "name": "python",
   "nbconvert_exporter": "python",
   "pygments_lexer": "ipython3",
   "version": "3.12.3"
  }
 },
 "nbformat": 4,
 "nbformat_minor": 5
}
