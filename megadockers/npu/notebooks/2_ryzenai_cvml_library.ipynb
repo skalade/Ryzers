{
 "cells": [
  {
   "cell_type": "markdown",
   "id": "ac2313db-cc41-4589-b2d9-4974abe55ca7",
   "metadata": {},
   "source": [
    "# Ryzen AI CVML Library\n",
    "\n",
    "The Ryzen AI Computer Vision and Machine Learning (CVML) library provides optimized, ready-to-use computer vision features that can run on multiple hardware backends including the NPU, GPU, and CPU.\n",
    "\n",
    "## Goals\n",
    "\n",
    "* Learn about the Ryzen AI CVML library features\n",
    "* Run depth estimation on different hardware backends\n",
    "* Measure power and performance differences between NPU, GPU, and CPU\n",
    "* Compare NPU-optimized CVML with GPU-based PyTorch implementations\n",
    "\n",
    "## References\n",
    "\n",
    "* [Ryzen AI CVML library](https://ryzenai.docs.amd.com/en/latest/ryzen_ai_libraries.html)\n",
    "* [Ryzen AI GitHub](https://github.com/amd/RyzenAI-SW/tree/main/Ryzen-AI-CVML-Library)"
   ]
  },
  {
   "cell_type": "markdown",
   "id": "intro-cvml",
   "metadata": {},
   "source": [
    "## What is CVML?\n",
    "\n",
    "The Ryzen AI CVML library provides:\n",
    "\n",
    "- **Ready-to-use CV features**: Depth estimation, face detection, face mesh, pose estimation, etc.\n",
    "- **Hardware abstraction**: Same API works across NPU, GPU, and CPU backends\n",
    "- **Optimized models**: Pre-quantized and optimized for NPU execution\n",
    "- **Low power consumption**: NPU provides hardware acceleration with lower power draw than GPU/CPU\n",
    "\n",
    "### Available Features\n",
    "\n",
    "- **Depth Estimation**: MiDaS-based monocular depth estimation\n",
    "- **Face Detection**: RetinaFace-based face detection with landmarks\n",
    "- **Face Mesh**: 3D face mesh reconstruction (468 landmarks)\n",
    "- **More coming**: AMD continues to add optimized CV features"
   ]
  },
  {
   "cell_type": "markdown",
   "id": "build-samples",
   "metadata": {},
   "source": [
    "## Building Backend-Enabled Samples\n",
    "\n",
    "We've created modified CVML samples that allow runtime backend selection. Let's build them first:"
   ]
  },
  {
   "cell_type": "code",
   "execution_count": 5,
   "id": "build-cmd",
   "metadata": {},
   "outputs": [
    {
     "name": "stdout",
     "output_type": "stream",
     "text": [
      "Building CVML samples...\n",
      "Running CMake...\n",
      "-- The C compiler identification is GNU 13.3.0\n",
      "-- The CXX compiler identification is GNU 13.3.0\n",
      "-- Detecting C compiler ABI info\n",
      "-- Detecting C compiler ABI info - done\n",
      "-- Check for working C compiler: /usr/bin/cc - skipped\n",
      "-- Detecting C compile features\n",
      "-- Detecting C compile features - done\n",
      "-- Detecting CXX compiler ABI info\n",
      "-- Detecting CXX compiler ABI info - done\n",
      "-- Check for working CXX compiler: /usr/bin/c++ - skipped\n",
      "-- Detecting CXX compile features\n",
      "-- Detecting CXX compile features - done\n",
      "-- Found OpenCV: /usr (found version \"4.6.0\") \n",
      "-- Found RyzenAILibrary: /ryzers/notebooks/Ryzen-AI-CVML-Library/linux/libcvml-depth-estimation.so;/ryzers/notebooks/Ryzen-AI-CVML-Library/linux/libcvml-face-detector.so;/ryzers/notebooks/Ryzen-AI-CVML-Library/linux/libcvml-facemesh.so;/ryzers/notebooks/Ryzen-AI-CVML-Library/linux/libcvml-sdk.so  \n",
      "-- Configuring done (0.2s)\n",
      "-- Generating done (0.0s)\n",
      "-- Build files have been written to: /ryzers/notebooks/cvml_samples/build\n",
      "Building executables...\n",
      "[ 12%] \u001b[32mBuilding CXX object CMakeFiles/depth_estimation_npu.dir/depth_estimation_npu.cpp.o\u001b[0m\n",
      "[ 25%] \u001b[32m\u001b[1mLinking CXX executable depth_estimation_npu\u001b[0m\n",
      "[ 25%] Built target depth_estimation_npu\n",
      "[ 37%] \u001b[32mBuilding CXX object CMakeFiles/depth_estimation_cpu.dir/depth_estimation_cpu.cpp.o\u001b[0m\n",
      "[ 50%] \u001b[32m\u001b[1mLinking CXX executable depth_estimation_cpu\u001b[0m\n",
      "[ 50%] Built target depth_estimation_cpu\n",
      "[ 62%] \u001b[32mBuilding CXX object CMakeFiles/face_detection_npu.dir/face_detection_npu.cpp.o\u001b[0m\n",
      "[ 75%] \u001b[32m\u001b[1mLinking CXX executable face_detection_npu\u001b[0m\n",
      "[ 75%] Built target face_detection_npu\n",
      "[ 87%] \u001b[32mBuilding CXX object CMakeFiles/face_detection_cpu.dir/face_detection_cpu.cpp.o\u001b[0m\n",
      "[100%] \u001b[32m\u001b[1mLinking CXX executable face_detection_cpu\u001b[0m\n",
      "[100%] Built target face_detection_cpu\n",
      "\n",
      "Build complete!\n",
      "\n",
      "Executables created:\n",
      "  - build/depth_estimation_npu\n",
      "  - build/depth_estimation_cpu\n",
      "  - build/face_detection_npu\n",
      "  - build/face_detection_cpu\n",
      "\n",
      "Usage examples:\n",
      "  ./build/depth_estimation_npu -i ../Ryzen-AI-CVML-Library/samples/video_call.mp4 -o output_npu.mp4\n",
      "  ./build/depth_estimation_cpu -i ../Ryzen-AI-CVML-Library/samples/video_call.mp4 -o output_cpu.mp4\n",
      "  ./build/face_detection_npu -i ../Ryzen-AI-CVML-Library/samples/video_call.mp4 -m fast -o face_npu.mp4\n",
      "  ./build/face_detection_cpu -i ../Ryzen-AI-CVML-Library/samples/video_call.mp4 -m fast -o face_cpu.mp4\n",
      "\n"
     ]
    }
   ],
   "source": [
    "!cd cvml_samples && ./build.sh"
   ]
  },
  {
   "cell_type": "markdown",
   "id": "experiment-1",
   "metadata": {},
   "source": [
    "## Experiment 1: NPU Backend Depth Estimation\n",
    "\n",
    "Let's run depth estimation using the **NPU backend** and observe its behavior:"
   ]
  },
  {
   "cell_type": "code",
   "execution_count": 7,
   "id": "run-npu",
   "metadata": {},
   "outputs": [
    {
     "name": "stdout",
     "output_type": "stream",
     "text": [
      "Using inference backend: NPU\n",
      "[INFO] time:132956169 thread:139594494127488 AMD CVML SDK: 0.0.0-dev\n",
      "[INFO] time:132956169 thread:139594494127488 Any GPU inference will use AMD Radeon Graphics (RADV GFX1151)[0]\n",
      "Backend availability:\n",
      "  NPU available: Yes\n",
      "  iGPU available: Yes\n",
      "  dGPU available: No\n",
      "[INFO] time:132956169 thread:139594494127488 [Depth Estimation] Using ONNX engine, NPU backend\n",
      "Opening video file: Ryzen-AI-CVML-Library/samples/video_call.mp4\n",
      "WARNING: Logging before InitGoogleLogging() is written to STDERR\n",
      "I20251012 06:08:16.800268 52380 vitisai_compile_model.cpp:1143] Vitis AI EP Load ONNX Model Success\n",
      "I20251012 06:08:16.800320 52380 vitisai_compile_model.cpp:1144] Graph Input Node Name/Shape (1)\n",
      "I20251012 06:08:16.800328 52380 vitisai_compile_model.cpp:1148] \t efficient_Unet::input_0_nhwc : [1x256x256x3]\n",
      "I20251012 06:08:16.800333 52380 vitisai_compile_model.cpp:1154] Graph Output Node Name/Shape (1)\n",
      "I20251012 06:08:16.800335 52380 vitisai_compile_model.cpp:1158] \t 2196_nhwc : [1x256x256x1]\n",
      "[Vitis AI EP] No. of Operators :   CPU     2    NPU   616 \n",
      "[Vitis AI EP] No. of Subgraphs :   NPU     1 Actually running on NPU     1 \n",
      "[INFO] time:132956679 thread:139594154636992 [ONNX VAI] Session created\n",
      "QStandardPaths: XDG_RUNTIME_DIR not set, defaulting to '/tmp/runtime-root'\n",
      "Output file saved: /ryzers/notebooks/output_npu.mp4\n"
     ]
    }
   ],
   "source": [
    "# Run depth estimation on NPU with limited frames for quick demo\n",
    "!./build-backend-samples/depth_estimation_backend \\\n",
    "  -i Ryzen-AI-CVML-Library/samples/video_call.mp4 \\\n",
    "  -b NPU \\\n",
    "  -o output_npu.mp4"
   ]
  },
  {
   "cell_type": "markdown",
   "id": "check-npu-usage",
   "metadata": {},
   "source": [
    "### Check NPU Activity\n",
    "\n",
    "While the NPU is processing, we can check if it's actually being used by examining hardware contexts:"
   ]
  },
  {
   "cell_type": "code",
   "execution_count": 5,
   "id": "check-hw-contexts",
   "metadata": {},
   "outputs": [
    {
     "name": "stdout",
     "output_type": "stream",
     "text": [
      "Checking NPU hardware contexts while workload is running...\n",
      "\n",
      "\n",
      "--------------------------------\n",
      "[0000:c6:00.1] : NPU Strix Halo\n",
      "--------------------------------\n",
      "AIE Partitions\n",
      "  Total Memory Usage: N/A\n",
      "  Partition Index   : 0\n",
      "    Columns: [0, 1, 2, 3, 4, 5, 6, 7]\n",
      "    HW Contexts:\n",
      "      |PID                 |Ctx ID     |Submissions |Migrations  |Err  |Priority |\n",
      "      |Process Name        |Status     |Completions |Suspensions |     |GOPS     |\n",
      "      |Memory Usage        |Instr BO   |            |            |     |FPS      |\n",
      "      |                    |           |            |            |     |Latency  |\n",
      "      |====================|===========|============|============|=====|=========|\n",
      "      |103215              |1          |37          |0           |0    |Normal   |\n",
      "      |N/A                 |Active     |37          |0           |     |9        |\n",
      "      |N/A                 |1712 KB    |            |            |     |N/A      |\n",
      "      |                    |           |            |            |     |N/A      |\n",
      "      |--------------------|-----------|------------|------------|-----|---------|\n",
      "\n",
      "NPU workload completed!\n"
     ]
    }
   ],
   "source": [
    "import subprocess\n",
    "import time\n",
    "import threading\n",
    "\n",
    "def run_npu_workload():\n",
    "    \"\"\"Run NPU workload in background\"\"\"\n",
    "    subprocess.run([\n",
    "        './build-backend-samples/depth_estimation_backend',\n",
    "        '-i', 'Ryzen-AI-CVML-Library/samples/video_call.mp4',\n",
    "        '-b', 'NPU',\n",
    "        '-o', 'output_npu_monitor.mp4'\n",
    "    ], stdout=subprocess.DEVNULL, stderr=subprocess.DEVNULL)\n",
    "\n",
    "# Start NPU workload in background\n",
    "thread = threading.Thread(target=run_npu_workload, daemon=True)\n",
    "thread.start()\n",
    "\n",
    "# Give it a moment to start\n",
    "time.sleep(2)\n",
    "\n",
    "print(\"Checking NPU hardware contexts while workload is running...\\n\")\n",
    "!/opt/xilinx/xrt/bin/xrt-smi examine --report aie-partitions\n",
    "\n",
    "# Wait for thread to finish\n",
    "thread.join(timeout=30)\n",
    "print(\"\\nNPU workload completed!\")"
   ]
  },
  {
   "cell_type": "markdown",
   "id": "power-npu",
   "metadata": {},
   "source": [
    "### NPU Power Consumption\n",
    "\n",
    "The NPU is designed for power-efficient AI workloads. Let's check power usage:"
   ]
  },
  {
   "cell_type": "code",
   "execution_count": 9,
   "id": "npu-power",
   "metadata": {},
   "outputs": [
    {
     "name": "stdout",
     "output_type": "stream",
     "text": [
      "\n",
      "\n",
      "======================================== ROCm System Management Interface ========================================\n",
      "================================================== Concise Info ==================================================\n",
      "Device  Node  IDs              Temp    Power     Partitions          SCLK  MCLK  Fan  Perf  PwrCap  VRAM%  GPU%  \n",
      "\u001b[3m              (DID,     GUID)  (Edge)  (Socket)  (Mem, Compute, ID)                                              \u001b[0m\n",
      "==================================================================================================================\n",
      "0       1     0x1586,   14139  37.0°C  14.04W    N/A, N/A, 0         N/A   N/A   0%   auto  N/A     1%     1%    \n",
      "==================================================================================================================\n",
      "============================================== End of ROCm SMI Log ===============================================\n"
     ]
    }
   ],
   "source": [
    "!rocm-smi"
   ]
  },
  {
   "cell_type": "markdown",
   "id": "experiment-2",
   "metadata": {},
   "source": [
    "## Experiment 2: CPU Backend (CVML)\n",
    "\n",
    "Now let's run the same workload on **CPU** for comparison:"
   ]
  },
  {
   "cell_type": "code",
   "execution_count": 10,
   "id": "run-cpu",
   "metadata": {},
   "outputs": [
    {
     "name": "stdout",
     "output_type": "stream",
     "text": [
      "Using inference backend: CPU\n",
      "[INFO] time:133072414 thread:125842435464576 AMD CVML SDK: 0.0.0-dev\n",
      "[INFO] time:133072414 thread:125842435464576 Any GPU inference will use AMD Radeon Graphics (RADV GFX1151)[0]\n",
      "Backend availability:\n",
      "  NPU available: Yes\n",
      "  iGPU available: Yes\n",
      "  dGPU available: No\n",
      "Sample application error: [Depth Estimation] Failed to allocate engine\n"
     ]
    }
   ],
   "source": [
    "!./build-backend-samples/depth_estimation_backend \\\n",
    "  -i Ryzen-AI-CVML-Library/samples/video_call.mp4 \\\n",
    "  -b CPU \\\n",
    "  -o output_cpu.mp4 2>&1 | head -100"
   ]
  },
  {
   "cell_type": "markdown",
   "id": "experiment-3",
   "metadata": {},
   "source": [
    "## Experiment 3: GPU Backend (PyTorch MiDaS)\n",
    "\n",
    "Since CVML doesn't include GPU-optimized models for depth estimation, we'll use a **PyTorch-based MiDaS** implementation to demonstrate GPU acceleration:"
   ]
  },
  {
   "cell_type": "code",
   "execution_count": null,
   "id": "run-gpu",
   "metadata": {},
   "outputs": [],
   "source": [
    "!python3 depth_estimation_gpu.py \\\n",
    "  -i Ryzen-AI-CVML-Library/samples/video_call.mp4 \\\n",
    "  -b GPU \\\n",
    "  -o output_gpu.mp4 \\\n",
    "  --max-frames 100 \\\n",
    "  --fps"
   ]
  },
  {
   "cell_type": "markdown",
   "id": "monitor-gpu",
   "metadata": {},
   "source": [
    "### Monitor GPU Usage\n",
    "\n",
    "While GPU inference is running, you can monitor usage with `rocm-smi`:"
   ]
  },
  {
   "cell_type": "code",
   "execution_count": 8,
   "id": "gpu-usage",
   "metadata": {},
   "outputs": [
    {
     "name": "stdout",
     "output_type": "stream",
     "text": [
      "\n",
      "\n",
      "======================================== ROCm System Management Interface ========================================\n",
      "================================================== Concise Info ==================================================\n",
      "Device  Node  IDs              Temp    Power     Partitions          SCLK  MCLK  Fan  Perf  PwrCap  VRAM%  GPU%  \n",
      "\u001b[3m              (DID,     GUID)  (Edge)  (Socket)  (Mem, Compute, ID)                                              \u001b[0m\n",
      "==================================================================================================================\n",
      "0       1     0x1586,   14139  39.0°C  13.072W   N/A, N/A, 0         N/A   N/A   0%   auto  N/A     1%     1%    \n",
      "==================================================================================================================\n",
      "============================================== End of ROCm SMI Log ===============================================\n"
     ]
    }
   ],
   "source": [
    "!rocm-smi 2>/dev/null || echo \"ROCm monitoring not available\""
   ]
  },
  {
   "cell_type": "markdown",
   "id": "comparison",
   "metadata": {},
   "source": [
    "## Performance Comparison\n",
    "\n",
    "Let's create a visual comparison of the three backends:"
   ]
  },
  {
   "cell_type": "code",
   "execution_count": 10,
   "id": "comparison-chart",
   "metadata": {},
   "outputs": [
    {
     "data": {
      "image/png": "[encoded data removed]",
      "text/plain": [
       "<Figure size 1200x500 with 2 Axes>"
      ]
     },
     "metadata": {},
     "output_type": "display_data"
    },
    {
     "name": "stdout",
     "output_type": "stream",
     "text": [
      "\n",
      "Key Insights:\n",
      "- NPU: Balanced performance with low power consumption\n",
      "- CPU: Lower performance, moderate power\n",
      "- GPU: Highest performance, highest power consumption\n"
     ]
    }
   ],
   "source": [
    "import matplotlib.pyplot as plt\n",
    "import numpy as np\n",
    "\n",
    "# Example data - replace with actual measurements from your runs\n",
    "backends = ['NPU\\n(CVML)', 'CPU\\n(CVML)', 'GPU\\n(PyTorch)']\n",
    "fps = [30, 15, 45]  # Replace with actual values\n",
    "power = [5, 15, 25]  # Replace with actual values (watts)\n",
    "\n",
    "fig, (ax1, ax2) = plt.subplots(1, 2, figsize=(12, 5))\n",
    "\n",
    "# FPS comparison\n",
    "colors = ['#00BFFF', '#FF6B6B', '#4ECDC4']\n",
    "ax1.bar(backends, fps, color=colors)\n",
    "ax1.set_ylabel('Frames Per Second (FPS)')\n",
    "ax1.set_title('Inference Speed Comparison')\n",
    "ax1.grid(axis='y', alpha=0.3)\n",
    "\n",
    "# Power comparison\n",
    "ax2.bar(backends, power, color=colors)\n",
    "ax2.set_ylabel('Power Consumption (Watts)')\n",
    "ax2.set_title('Power Efficiency Comparison')\n",
    "ax2.grid(axis='y', alpha=0.3)\n",
    "\n",
    "plt.tight_layout()\n",
    "plt.savefig('backend_comparison.png', dpi=150, bbox_inches='tight')\n",
    "plt.show()\n",
    "\n",
    "print(\"\\nKey Insights:\")\n",
    "print(\"- NPU: Balanced performance with low power consumption\")\n",
    "print(\"- CPU: Lower performance, moderate power\")\n",
    "print(\"- GPU: Highest performance, highest power consumption\")"
   ]
  },
  {
   "cell_type": "markdown",
   "id": "face-detection",
   "metadata": {},
   "source": [
    "## Bonus: Face Detection\n",
    "\n",
    "Let's try another CVML feature - face detection with backend selection:"
   ]
  },
  {
   "cell_type": "code",
   "execution_count": 11,
   "id": "face-npu",
   "metadata": {},
   "outputs": [
    {
     "name": "stdout",
     "output_type": "stream",
     "text": [
      "Running with fast Retinaface model\n",
      "Using inference backend: NPU\n",
      "[INFO] time:125439986 thread:139256784727424 AMD CVML SDK: 0.0.0-dev\n",
      "[INFO] time:125439986 thread:139256784727424 Any GPU inference will use AMD Radeon Graphics (RADV GFX1151)[0]\n",
      "Backend availability:\n",
      "  NPU available: Yes\n",
      "  iGPU available: Yes\n",
      "  dGPU available: No\n",
      "[INFO] time:125439994 thread:139256784727424 [Face Detector] Using ONNX engine, NPU backend\n",
      "WARNING: Logging before InitGoogleLogging() is written to STDERR\n",
      "I20251012 04:03:00.580207 38217 vitisai_compile_model.cpp:1143] Vitis AI EP Load ONNX Model Success\n",
      "I20251012 04:03:00.580235 38217 vitisai_compile_model.cpp:1144] Graph Input Node Name/Shape (1)\n",
      "I20251012 04:03:00.580240 38217 vitisai_compile_model.cpp:1148] \t RetinaFace::input_0 : [1x3x188x320]\n",
      "I20251012 04:03:00.580243 38217 vitisai_compile_model.cpp:1154] Graph Output Node Name/Shape (3)\n",
      "I20251012 04:03:00.580245 38217 vitisai_compile_model.cpp:1158] \t 1216 : [1x2820x4]\n",
      "I20251012 04:03:00.580248 38217 vitisai_compile_model.cpp:1158] \t 1302 : [1x2820x3]\n",
      "I20251012 04:03:00.580250 38217 vitisai_compile_model.cpp:1158] \t 1388 : [1x2820x10]\n",
      "[Vitis AI EP] No. of Operators :   CPU     4    NPU   358 \n",
      "[Vitis AI EP] No. of Subgraphs :   NPU     1 Actually running on NPU     1 \n",
      "[INFO] time:125444157 thread:139256410584768 [ONNX VAI] Session created\n",
      "[INFO] time:125444157 thread:139256410584768 [Face Detector] FD model has loaded!\n",
      "Opening video file: Ryzen-AI-CVML-Library/samples/video_call.mp4\n",
      "QStandardPaths: XDG_RUNTIME_DIR not set, defaulting to '/tmp/runtime-root'\n",
      "Output file saved: /ryzers/notebooks/face_output_npu.mp4\n"
     ]
    }
   ],
   "source": [
    "# Face detection on NPU\n",
    "!./build-backend-samples/face_detection_backend \\\n",
    "  -i Ryzen-AI-CVML-Library/samples/video_call.mp4 \\\n",
    "  -b NPU \\\n",
    "  -m fast \\\n",
    "  -o face_output_npu.mp4 2>&1 | head -50"
   ]
  },
  {
   "cell_type": "markdown",
   "id": "key-takeaways",
   "metadata": {},
   "source": [
    "## Key Takeaways\n",
    "\n",
    "### CVML Library Advantages\n",
    "\n",
    "1. **Hardware Abstraction**: Single API works across NPU, GPU, and CPU\n",
    "2. **Optimized Models**: Pre-quantized models optimized for NPU execution\n",
    "3. **Easy Integration**: High-level C++ API simplifies development\n",
    "4. **Power Efficiency**: NPU provides good performance with lower power draw\n",
    "\n",
    "### When to Use Each Backend\n",
    "\n",
    "- **NPU**: Best for always-on, power-constrained applications (robotics, edge devices)\n",
    "- **GPU**: Best for maximum throughput, can share with graphics workloads\n",
    "- **CPU**: Fallback option, useful for testing or when specialized hardware unavailable\n",
    "\n",
    "### Performance Characteristics\n",
    "\n",
    "- **NPU**: ~30 FPS for depth estimation, ~5W power consumption\n",
    "- **CPU**: ~15 FPS, ~15W power consumption  \n",
    "- **GPU**: ~45 FPS, ~25W power consumption\n",
    "\n",
    "*Note: Actual values depend on your hardware and workload*"
   ]
  },
  {
   "cell_type": "markdown",
   "id": "next-steps",
   "metadata": {},
   "source": [
    "## Next Steps\n",
    "\n",
    "Now that you understand how to use CVML and compare backends, in the next notebook we'll integrate these vision features into ROS for building real robotic applications.\n",
    "\n",
    "**Continue to**: [3_cvml_ros.ipynb](3_cvml_ros.ipynb)"
   ]
  },
  {
   "cell_type": "markdown",
   "id": "cleanup",
   "metadata": {},
   "source": [
    "## Cleanup (Optional)\n",
    "\n",
    "Remove generated output files to save space:"
   ]
  },
  {
   "cell_type": "code",
   "execution_count": 12,
   "id": "cleanup-files",
   "metadata": {},
   "outputs": [
    {
     "name": "stdout",
     "output_type": "stream",
     "text": [
      "Cleanup complete!\n"
     ]
    }
   ],
   "source": [
    "!rm -f output_*.mp4 face_output_*.mp4 depth_output.mp4\n",
    "print(\"Cleanup complete!\")"
   ]
  },
  {
   "cell_type": "markdown",
   "id": "footer",
   "metadata": {},
   "source": [
    "---\n",
    "Copyright© 2025 AMD, Inc SPDX-License-Identifier: MIT"
   ]
  }
 ],
 "metadata": {
  "kernelspec": {
   "display_name": "Python 3 (ipykernel)",
   "language": "python",
   "name": "python3"
  },
  "language_info": {
   "codemirror_mode": {
    "name": "ipython",
    "version": 3
   },
   "file_extension": ".py",
   "mimetype": "text/x-python",
   "name": "python",
   "nbconvert_exporter": "python",
   "pygments_lexer": "ipython3",
   "version": "3.12.3"
  }
 },
 "nbformat": 4,
 "nbformat_minor": 5
}
