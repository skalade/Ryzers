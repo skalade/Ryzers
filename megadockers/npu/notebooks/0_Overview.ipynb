{
 "cells": [
  {
   "cell_type": "markdown",
   "id": "c7c4c387-f0b9-4379-8ad4-12ae1895ad3c",
   "metadata": {},
   "source": [
    "# NPU Programming for Low-Power Vision Pipelines\n",
    "\n",
    "In this tutorial you will learn how to set up and validate your NPU device, run vision pipelines using Ryzen AI libraries and integrate them into your ROS applications. \n",
    "\n",
    "## Overview\n",
    "\n",
    "1. [XDNA Driver](1_xdna_driver.ipynb) - first we will learn about the XDNA driver, how to probe your device using `xrt-smi` and validate its functionality.\n",
    "2. [RyzenAI CVML libraries](2_ryzenai_cvml_library.ipynb) - you will learn about the RyzenAI computer vision libraries and the advantages of running vision models on the NPU.\n",
    "3. [Integration with ROS](3_cvml_ros.ipynb) - we will wrap our CVML applications from the earlier notebook into a ROS node.\n",
    "4. [Custom NPU Programs](4_programming_npu.ipynb) - if you want to build your own NPU libraries from scratch we will guide you through existing tools.\n",
    "\n",
    "## Outcomes\n",
    "\n",
    "After you've completed this set of materials you will be able to easily utilize the NPU in your ROS-based systems and if you were inclined to go deeper you will have the resources to build customized NPU applications.\n",
    "\n",
    "---\n",
    "Copyright© 2025 AMD, Inc SPDX-License-Identifier: MIT"
   ]
  }
 ],
 "metadata": {
  "kernelspec": {
   "display_name": "Python 3 (ipykernel)",
   "language": "python",
   "name": "python3"
  },
  "language_info": {
   "codemirror_mode": {
    "name": "ipython",
    "version": 3
   },
   "file_extension": ".py",
   "mimetype": "text/x-python",
   "name": "python",
   "nbconvert_exporter": "python",
   "pygments_lexer": "ipython3",
   "version": "3.12.3"
  }
 },
 "nbformat": 4,
 "nbformat_minor": 5
}
